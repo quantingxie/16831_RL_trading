{
 "cells": [
  {
   "cell_type": "code",
   "execution_count": 11,
   "id": "dbea930e",
   "metadata": {},
   "outputs": [
    {
     "ename": "UnboundLocalError",
     "evalue": "local variable 'listData' referenced before assignment",
     "output_type": "error",
     "traceback": [
      "\u001b[0;31m---------------------------------------------------------------------------\u001b[0m",
      "\u001b[0;31mFileNotFoundError\u001b[0m                         Traceback (most recent call last)",
      "Input \u001b[0;32mIn [11]\u001b[0m, in \u001b[0;36mReadFile\u001b[0;34m(path)\u001b[0m\n\u001b[1;32m     40\u001b[0m \u001b[38;5;28;01mtry\u001b[39;00m:\n\u001b[0;32m---> 41\u001b[0m     fileCSV \u001b[38;5;241m=\u001b[39m \u001b[38;5;28;43mopen\u001b[39;49m\u001b[43m(\u001b[49m\u001b[43mpath\u001b[49m\u001b[43m,\u001b[49m\u001b[38;5;124;43m\"\u001b[39;49m\u001b[38;5;124;43mr\u001b[39;49m\u001b[38;5;124;43m\"\u001b[39;49m\u001b[43m)\u001b[49m \u001b[38;5;66;03m#Opens file\u001b[39;00m\n\u001b[1;32m     42\u001b[0m     data \u001b[38;5;241m=\u001b[39m fileCSV\u001b[38;5;241m.\u001b[39mread() \u001b[38;5;66;03m#Save file data in string\u001b[39;00m\n",
      "\u001b[0;31mFileNotFoundError\u001b[0m: [Errno 2] No such file or directory: 'file1.csv'",
      "\nDuring handling of the above exception, another exception occurred:\n",
      "\u001b[0;31mUnboundLocalError\u001b[0m                         Traceback (most recent call last)",
      "Input \u001b[0;32mIn [11]\u001b[0m, in \u001b[0;36m<cell line: 66>\u001b[0;34m()\u001b[0m\n\u001b[1;32m     63\u001b[0m         \u001b[38;5;28;01mdel\u001b[39;00m listTemp[:]\n\u001b[1;32m     64\u001b[0m     \u001b[38;5;28;01mreturn\u001b[39;00m newList\n\u001b[0;32m---> 66\u001b[0m xValues \u001b[38;5;241m=\u001b[39m GetXandYValues( \u001b[43mGetCoordinates\u001b[49m\u001b[43m(\u001b[49m\u001b[43m \u001b[49m\u001b[43mnumFiles\u001b[49m\u001b[43m,\u001b[49m\u001b[43m \u001b[49m\u001b[43mseparator\u001b[49m\u001b[43m \u001b[49m\u001b[43m,\u001b[49m\u001b[43m \u001b[49m\u001b[43mfExtension\u001b[49m\u001b[43m)\u001b[49m )[\u001b[38;5;241m0\u001b[39m]\n\u001b[1;32m     67\u001b[0m allYValues \u001b[38;5;241m=\u001b[39m GetXandYValues( GetCoordinates( numFiles, separator , fExtension) )[\u001b[38;5;241m1\u001b[39m]\n\u001b[1;32m     69\u001b[0m MultiplePlots( xValues, allYValues )\n",
      "Input \u001b[0;32mIn [11]\u001b[0m, in \u001b[0;36mGetCoordinates\u001b[0;34m(n, separator, fExtension)\u001b[0m\n\u001b[1;32m     33\u001b[0m coordinates \u001b[38;5;241m=\u001b[39m [] \u001b[38;5;66;03m#coordinates[0] = x values --- coordinates[1] = y values\u001b[39;00m\n\u001b[1;32m     34\u001b[0m \u001b[38;5;28;01mfor\u001b[39;00m i \u001b[38;5;129;01min\u001b[39;00m \u001b[38;5;28mrange\u001b[39m(n):\n\u001b[0;32m---> 35\u001b[0m             coordinates\u001b[38;5;241m.\u001b[39mappend( FillList( \u001b[43mReadFile\u001b[49m\u001b[43m(\u001b[49m\u001b[38;5;124;43m\"\u001b[39;49m\u001b[38;5;124;43mfile\u001b[39;49m\u001b[38;5;124;43m\"\u001b[39;49m\u001b[43m \u001b[49m\u001b[38;5;241;43m+\u001b[39;49m\u001b[43m \u001b[49m\u001b[38;5;28;43mstr\u001b[39;49m\u001b[43m(\u001b[49m\u001b[43mi\u001b[49m\u001b[38;5;241;43m+\u001b[39;49m\u001b[38;5;241;43m1\u001b[39;49m\u001b[43m)\u001b[49m\u001b[43m \u001b[49m\u001b[38;5;241;43m+\u001b[39;49m\u001b[43m \u001b[49m\u001b[43mfExtension\u001b[49m\u001b[43m)\u001b[49m, separator ) )\n\u001b[1;32m     36\u001b[0m \u001b[38;5;28;01mreturn\u001b[39;00m coordinates\n",
      "Input \u001b[0;32mIn [11]\u001b[0m, in \u001b[0;36mReadFile\u001b[0;34m(path)\u001b[0m\n\u001b[1;32m     44\u001b[0m     fileCSV\u001b[38;5;241m.\u001b[39mclose() \u001b[38;5;66;03m#Close file\u001b[39;00m\n\u001b[1;32m     45\u001b[0m \u001b[38;5;28;01mfinally\u001b[39;00m:\n\u001b[0;32m---> 46\u001b[0m     \u001b[38;5;28;01mreturn\u001b[39;00m \u001b[43mlistData\u001b[49m\n",
      "\u001b[0;31mUnboundLocalError\u001b[0m: local variable 'listData' referenced before assignment"
     ]
    }
   ],
   "source": [
    "numFiles = 3 #Number of CSV files in your directory\n",
    "separator = \",\" #Character that separates each value inside file\n",
    "fExtension = \".csv\" #Extension of the file storing the data\n",
    "\n",
    "def MultiplePlots(xValues, allYValues):\n",
    "    'Method to plot multiple times in one figure.'\n",
    "\n",
    "    for yValues in allYValues:\n",
    "        plt.plot(list(map(int, xValues)), list( map(float, yValues) ), label = \"file\" + str(i))\n",
    "\n",
    "    plt.legend(loc = 'best')\n",
    "    plt.show()\n",
    "    return\n",
    "\n",
    "def GetXandYValues(coordinates):\n",
    "    'Method to get all coordinates from all CSV files.'\n",
    "    xValues = []\n",
    "    yValues = []\n",
    "    allYValues = []\n",
    "    fst = False\n",
    "    for file in coordinates:\n",
    "        for coordinate in file:\n",
    "            if (fst == False):\n",
    "                xValues.append(coordinate[0])\n",
    "            yValues.append(coordinate[1])\n",
    "        fst = True\n",
    "        allYValues.append( yValues )\n",
    "        yValues = []\n",
    "    return xValues, allYValues\n",
    "\n",
    "def GetCoordinates( n , separator , fExtension ):\n",
    "    'Iterates through multiple CSV files and storing X values and Y values in different Lists'\n",
    "    coordinates = [] #coordinates[0] = x values --- coordinates[1] = y values\n",
    "    for i in range(n):\n",
    "                coordinates.append( FillList( ReadFile(\"file\" + str(i+1) + fExtension), separator ) )\n",
    "    return coordinates\n",
    "\n",
    "def ReadFile(path):\n",
    "    'Function to read CSV file and store file data rows in list.'\n",
    "    try:\n",
    "        fileCSV = open(path,\"r\") #Opens file\n",
    "        data = fileCSV.read() #Save file data in string\n",
    "        listData = data.splitlines() #Split lines so you have List of all lines in file\n",
    "        fileCSV.close() #Close file\n",
    "    finally:\n",
    "        return listData #Return list with file's rows\n",
    "\n",
    "def FillList(myList, separator):\n",
    "    'With this method you make a list containing every row from CSV file'\n",
    "    valueTemp = \"\"\n",
    "    listTemp = []\n",
    "    newList = []\n",
    "    for line in myList:\n",
    "        for c in line:\n",
    "            if c != separator:\n",
    "                valueTemp += c\n",
    "            else:\n",
    "                listTemp.append( valueTemp )\n",
    "                valueTemp = \"\"\n",
    "        listTemp.append( valueTemp )\n",
    "        newList.append(listTemp[:])\n",
    "        valueTemp = \"\"\n",
    "        del listTemp[:]\n",
    "    return newList\n",
    "\n",
    "xValues = GetXandYValues( GetCoordinates( numFiles, separator , fExtension) )[0]\n",
    "allYValues = GetXandYValues( GetCoordinates( numFiles, separator , fExtension) )[1]\n",
    "\n",
    "MultiplePlots( xValues, allYValues )"
   ]
  },
  {
   "cell_type": "code",
   "execution_count": 23,
   "id": "011b838f",
   "metadata": {},
   "outputs": [
    {
     "name": "stdout",
     "output_type": "stream",
     "text": [
      "pr.csv\n",
      "profit_Random.csv\n",
      "profit_PPO.csv\n"
     ]
    },
    {
     "data": {
      "image/png": "[encoded data removed]",
      "text/plain": [
       "<Figure size 432x288 with 1 Axes>"
      ]
     },
     "metadata": {
      "needs_background": "light"
     },
     "output_type": "display_data"
    }
   ],
   "source": [
    "import os\n",
    "import pandas as pd\n",
    "import matplotlib.pyplot as plt\n",
    "\n",
    "### Set your path to the folder containing the .csv files\n",
    "PATH = '/Users/asrarotb/Desktop/scripts/' # Use your path\n",
    "\n",
    "### Fetch all files in path\n",
    "fileNames = os.listdir(PATH)\n",
    "\n",
    "### Filter file name list for files ending with .csv\n",
    "fileNames = [file for file in fileNames if '.csv' in file]\n",
    "\n",
    "### Loop over all files\n",
    "for file in fileNames:\n",
    "    print(file)\n",
    "\n",
    "    ### Read .csv file and append to list\n",
    "    df = pd.read_csv(PATH + file, index_col = 0)\n",
    "\n",
    "    ### Create line for every file\n",
    "    plt.plot(df , label = file)\n",
    "\n",
    "### Generate the plot\n",
    "plt.show()"
   ]
  },
  {
   "cell_type": "code",
   "execution_count": 35,
   "id": "90b520c2",
   "metadata": {},
   "outputs": [
    {
     "data": {
      "image/png": "[encoded data removed]",
      "text/plain": [
       "<Figure size 432x288 with 1 Axes>"
      ]
     },
     "metadata": {
      "needs_background": "light"
     },
     "output_type": "display_data"
    }
   ],
   "source": [
    "dqn = pd.read_csv('/Users/asrarotb/Desktop/scripts/pr.csv', index_col = 0)\n",
    "plt.plot(dqn, label=\"DQN\")\n",
    "ppo = pd.read_csv('/Users/asrarotb/Desktop/scripts/profit_PPO.csv', index_col = 0)\n",
    "plt.plot(ppo, label=\"PPO\")\n",
    "random = pd.read_csv('/Users/asrarotb/Desktop/scripts/profit_Random.csv', index_col = 0)\n",
    "plt.plot(random, label=\"Random\") \n",
    "plt.xlabel(\"Days\")\n",
    "plt.ylabel(\"Profit\")\n",
    "plt.legend(loc=\"upper left\")\n",
    "plt.show()\n",
    "                  "
   ]
  },
  {
   "cell_type": "code",
   "execution_count": 8,
   "id": "cd7b62ef",
   "metadata": {},
   "outputs": [
    {
     "name": "stdout",
     "output_type": "stream",
     "text": [
      "/Users/asrarotb\n"
     ]
    }
   ],
   "source": [
    "%cd /Users/asrarotb/Desktop"
   ]
  },
  {
   "cell_type": "code",
   "execution_count": 3,
   "id": "a3a031d9",
   "metadata": {},
   "outputs": [
    {
     "name": "stdout",
     "output_type": "stream",
     "text": [
      "Collecting tensorboard\n",
      "  Downloading tensorboard-2.11.0-py3-none-any.whl (6.0 MB)\n",
      "\u001b[K     |████████████████████████████████| 6.0 MB 1.5 MB/s eta 0:00:01\n",
      "\u001b[?25hRequirement already satisfied: setuptools>=41.0.0 in /Users/asrarotb/opt/anaconda3/lib/python3.9/site-packages (from tensorboard) (61.2.0)\n",
      "Collecting google-auth-oauthlib<0.5,>=0.4.1\n",
      "  Using cached google_auth_oauthlib-0.4.6-py2.py3-none-any.whl (18 kB)\n",
      "Requirement already satisfied: google-auth<3,>=1.6.3 in /Users/asrarotb/opt/anaconda3/lib/python3.9/site-packages (from tensorboard) (1.33.0)\n",
      "Requirement already satisfied: werkzeug>=1.0.1 in /Users/asrarotb/opt/anaconda3/lib/python3.9/site-packages (from tensorboard) (2.0.3)\n",
      "Collecting tensorboard-data-server<0.7.0,>=0.6.0\n",
      "  Using cached tensorboard_data_server-0.6.1-py3-none-macosx_10_9_x86_64.whl (3.5 MB)\n",
      "Requirement already satisfied: markdown>=2.6.8 in /Users/asrarotb/opt/anaconda3/lib/python3.9/site-packages (from tensorboard) (3.3.4)\n",
      "Requirement already satisfied: grpcio>=1.24.3 in /Users/asrarotb/opt/anaconda3/lib/python3.9/site-packages (from tensorboard) (1.42.0)\n",
      "Requirement already satisfied: numpy>=1.12.0 in /Users/asrarotb/opt/anaconda3/lib/python3.9/site-packages (from tensorboard) (1.20.2)\n",
      "Collecting tensorboard-plugin-wit>=1.6.0\n",
      "  Using cached tensorboard_plugin_wit-1.8.1-py3-none-any.whl (781 kB)\n",
      "Requirement already satisfied: protobuf<4,>=3.9.2 in /Users/asrarotb/opt/anaconda3/lib/python3.9/site-packages (from tensorboard) (3.19.1)\n",
      "Collecting absl-py>=0.4\n",
      "  Using cached absl_py-1.3.0-py3-none-any.whl (124 kB)\n",
      "Requirement already satisfied: wheel>=0.26 in /Users/asrarotb/opt/anaconda3/lib/python3.9/site-packages (from tensorboard) (0.37.1)\n",
      "Requirement already satisfied: requests<3,>=2.21.0 in /Users/asrarotb/opt/anaconda3/lib/python3.9/site-packages (from tensorboard) (2.25.1)\n",
      "Requirement already satisfied: six>=1.9.0 in /Users/asrarotb/opt/anaconda3/lib/python3.9/site-packages (from google-auth<3,>=1.6.3->tensorboard) (1.16.0)\n",
      "Requirement already satisfied: cachetools<5.0,>=2.0.0 in /Users/asrarotb/opt/anaconda3/lib/python3.9/site-packages (from google-auth<3,>=1.6.3->tensorboard) (4.2.2)\n",
      "Requirement already satisfied: rsa<5,>=3.1.4 in /Users/asrarotb/opt/anaconda3/lib/python3.9/site-packages (from google-auth<3,>=1.6.3->tensorboard) (4.7.2)\n",
      "Requirement already satisfied: pyasn1-modules>=0.2.1 in /Users/asrarotb/opt/anaconda3/lib/python3.9/site-packages (from google-auth<3,>=1.6.3->tensorboard) (0.2.8)\n",
      "Collecting requests-oauthlib>=0.7.0\n",
      "  Using cached requests_oauthlib-1.3.1-py2.py3-none-any.whl (23 kB)\n",
      "Requirement already satisfied: pyasn1<0.5.0,>=0.4.6 in /Users/asrarotb/opt/anaconda3/lib/python3.9/site-packages (from pyasn1-modules>=0.2.1->google-auth<3,>=1.6.3->tensorboard) (0.4.8)\n",
      "Requirement already satisfied: idna<3,>=2.5 in /Users/asrarotb/opt/anaconda3/lib/python3.9/site-packages (from requests<3,>=2.21.0->tensorboard) (2.10)\n",
      "Requirement already satisfied: certifi>=2017.4.17 in /Users/asrarotb/opt/anaconda3/lib/python3.9/site-packages (from requests<3,>=2.21.0->tensorboard) (2021.10.8)\n",
      "Requirement already satisfied: chardet<5,>=3.0.2 in /Users/asrarotb/opt/anaconda3/lib/python3.9/site-packages (from requests<3,>=2.21.0->tensorboard) (4.0.0)\n",
      "Requirement already satisfied: urllib3<1.27,>=1.21.1 in /Users/asrarotb/opt/anaconda3/lib/python3.9/site-packages (from requests<3,>=2.21.0->tensorboard) (1.26.9)\n",
      "Collecting oauthlib>=3.0.0\n",
      "  Using cached oauthlib-3.2.2-py3-none-any.whl (151 kB)\n",
      "Installing collected packages: oauthlib, requests-oauthlib, tensorboard-plugin-wit, tensorboard-data-server, google-auth-oauthlib, absl-py, tensorboard\n",
      "Successfully installed absl-py-1.3.0 google-auth-oauthlib-0.4.6 oauthlib-3.2.2 requests-oauthlib-1.3.1 tensorboard-2.11.0 tensorboard-data-server-0.6.1 tensorboard-plugin-wit-1.8.1\n",
      "Note: you may need to restart the kernel to use updated packages.\n"
     ]
    }
   ],
   "source": [
    "%pip install tensorboard"
   ]
  },
  {
   "cell_type": "code",
   "execution_count": null,
   "id": "25d8d644",
   "metadata": {},
   "outputs": [],
   "source": []
  }
 ],
 "metadata": {
  "kernelspec": {
   "display_name": "Python 3 (ipykernel)",
   "language": "python",
   "name": "python3"
  },
  "language_info": {
   "codemirror_mode": {
    "name": "ipython",
    "version": 3
   },
   "file_extension": ".py",
   "mimetype": "text/x-python",
   "name": "python",
   "nbconvert_exporter": "python",
   "pygments_lexer": "ipython3",
   "version": "3.9.12"
  }
 },
 "nbformat": 4,
 "nbformat_minor": 5
}
